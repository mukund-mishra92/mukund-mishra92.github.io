{
 "cells": [
  {
   "cell_type": "code",
   "execution_count": 1,
   "metadata": {},
   "outputs": [],
   "source": [
    "from PIL import Image, ImageOps\n",
    "\n",
    "# Load your image\n",
    "image = Image.open(\"/Users/balmukundmishra/Desktop/2025-Learning/my-github-portfolio/balmukund_pic.jpg\")\n",
    "\n",
    "# Define padding (top, right, bottom, left)\n",
    "top_pad = 50\n",
    "bottom_pad = 50\n",
    "padding = (0, top_pad, 0, bottom_pad)\n",
    "\n",
    "# Add padding with a specific color (e.g., white)\n",
    "padded_image = ImageOps.expand(image, border=padding, fill=(255, 255, 255))\n",
    "\n",
    "# Save or display the result\n",
    "padded_image.save(\"balmukund_image.jpg\")\n",
    "padded_image.show()\n"
   ]
  },
  {
   "cell_type": "code",
   "execution_count": 5,
   "metadata": {},
   "outputs": [
    {
     "data": {
      "text/plain": [
       "True"
      ]
     },
     "execution_count": 5,
     "metadata": {},
     "output_type": "execute_result"
    }
   ],
   "source": [
    "import cv2\n",
    "\n",
    "# Load the image\n",
    "image = cv2.imread(\"/Users/balmukundmishra/Desktop/2025-Learning/my-github-portfolio/balmukund_pic.jpg\")\n",
    "\n",
    "# Check if the image loaded successfully\n",
    "if image is None:\n",
    "    raise FileNotFoundError(\"Image not found. Check your file path or name.\")\n",
    "\n",
    "# Add replicated padding\n",
    "top_pad = 50\n",
    "bottom_pad = 50\n",
    "\n",
    "padded_image = cv2.copyMakeBorder(\n",
    "    image,\n",
    "    top_pad, bottom_pad, 0, 0,\n",
    "    cv2.BORDER_REPLICATE\n",
    ")\n",
    "\n",
    "height, width = padded_image.shape[:2]\n",
    "\n",
    "# Define how many pixels to remove from the bottom\n",
    "crop_pixels = 500\n",
    "\n",
    "# Crop image (keep from row 0 to height - crop_pixels)\n",
    "cropped_image = padded_image[0:height - crop_pixels, :]\n",
    "\n",
    "cv2.imwrite(\"balmukund_image.jpg\", cropped_image)\n",
    "# cv2.imshow(\"Padded Image\", padded_image)\n",
    "# cv2.waitKey(0)\n",
    "# cv2.destroyAllWindows()\n"
   ]
  }
 ],
 "metadata": {
  "kernelspec": {
   "display_name": "base",
   "language": "python",
   "name": "python3"
  },
  "language_info": {
   "codemirror_mode": {
    "name": "ipython",
    "version": 3
   },
   "file_extension": ".py",
   "mimetype": "text/x-python",
   "name": "python",
   "nbconvert_exporter": "python",
   "pygments_lexer": "ipython3",
   "version": "3.10.9"
  }
 },
 "nbformat": 4,
 "nbformat_minor": 2
}
